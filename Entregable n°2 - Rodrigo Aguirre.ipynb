{
 "cells": [
  {
   "attachments": {},
   "cell_type": "markdown",
   "id": "2b9d8ad5-0ba7-4f10-bbc4-963a950c85fa",
   "metadata": {
    "tags": []
   },
   "source": [
    "# ENTREGABLE N2 - RODRIGO AGUIRRE\n",
    "\n",
    "CONSIGA:\n",
    "* Adaptar datos bajados de una API y subirlos a la tabla de Redshift creada en la entrega anterior.\n",
    "* Utilizar Pyspark para una situacion de ETL real donde puedan haber datos repetidos."
   ]
  },
  {
   "cell_type": "code",
   "execution_count": 5,
   "id": "2b8041f0-c750-42c3-8943-515cd0131743",
   "metadata": {
    "collapsed": true,
    "jupyter": {
     "outputs_hidden": true
    },
    "tags": []
   },
   "outputs": [
    {
     "name": "stdout",
     "output_type": "stream",
     "text": [
      "Collecting nba_api\n",
      "  Downloading nba_api-1.2.1-py3-none-any.whl (257 kB)\n",
      "\u001b[2K     \u001b[90m━━━━━━━━━━━━━━━━━━━━━━━━━━━━━━━━━━━━━━━\u001b[0m \u001b[32m257.3/257.3 kB\u001b[0m \u001b[31m5.4 MB/s\u001b[0m eta \u001b[36m0:00:00\u001b[0ma \u001b[36m0:00:01\u001b[0m\n",
      "\u001b[?25hRequirement already satisfied: numpy<2.0.0,>=1.22.2 in /opt/conda/lib/python3.10/site-packages (from nba_api) (1.23.5)\n",
      "Requirement already satisfied: requests in /opt/conda/lib/python3.10/site-packages (from nba_api) (2.28.2)\n",
      "Requirement already satisfied: charset-normalizer<4,>=2 in /opt/conda/lib/python3.10/site-packages (from requests->nba_api) (3.1.0)\n",
      "Requirement already satisfied: idna<4,>=2.5 in /opt/conda/lib/python3.10/site-packages (from requests->nba_api) (3.4)\n",
      "Requirement already satisfied: urllib3<1.27,>=1.21.1 in /opt/conda/lib/python3.10/site-packages (from requests->nba_api) (1.26.15)\n",
      "Requirement already satisfied: certifi>=2017.4.17 in /opt/conda/lib/python3.10/site-packages (from requests->nba_api) (2022.12.7)\n",
      "Installing collected packages: nba_api\n",
      "Successfully installed nba_api-1.2.1\n"
     ]
    }
   ],
   "source": [
    "!pip install nba_api\n",
    "!pip install psycopg2-binary"
   ]
  },
  {
   "cell_type": "code",
   "execution_count": 9,
   "id": "697c682c-f3f5-4662-8a63-cd33cd34444b",
   "metadata": {
    "tags": []
   },
   "outputs": [],
   "source": [
    "#Para el ejercicio elegi una libreria que facilita el trabajo con la api oficial de la NBA. \n",
    "#Los datos que tomaremos son las estadisiticas de Stephen Curry en sus temporadas regulares en la NBA.\n",
    "\n",
    "from nba_api.stats.endpoints import playercareerstats\n",
    "import json \n",
    "\n",
    "# Stephen Curry Seasons Stats - Obtenemos un json y lo visualizamos (cambiando el numero de id podriamos analizar otros jugadores).\n",
    "career = playercareerstats.PlayerCareerStats(player_id='201939')\n",
    "json=json.dumps(career.get_dict(), indent=4)\n",
    "#print(json)"
   ]
  },
  {
   "cell_type": "code",
   "execution_count": 4,
   "id": "784bd8a8-1f06-4eed-b011-8c6b04b6f5df",
   "metadata": {
    "tags": []
   },
   "outputs": [],
   "source": [
    "# Creamos una sesion de Spark\n",
    "import os\n",
    "import psycopg2\n",
    "\n",
    "from pyspark.sql import SparkSession\n",
    "from pyspark.sql.functions import when, lit, col\n",
    "\n",
    "# Postgres and Redshift JDBCs\n",
    "driver_path = \"/home/coder/working_dir/driver_jdbc/postgresql-42.2.27.jre7.jar\"\n",
    "\n",
    "os.environ['PYSPARK_SUBMIT_ARGS'] = f'--driver-class-path {driver_path} --jars {driver_path} pyspark-shell'\n",
    "os.environ['SPARK_CLASSPATH'] = driver_path\n",
    "\n",
    "# Create SparkSession \n",
    "spark = SparkSession.builder \\\n",
    "        .master(\"local\") \\\n",
    "        .appName(\"Conexion entre Pyspark y Redshift\") \\\n",
    "        .config(\"spark.jars\", driver_path) \\\n",
    "        .config(\"spark.executor.extraClassPath\", driver_path) \\\n",
    "        .getOrCreate()"
   ]
  },
  {
   "cell_type": "code",
   "execution_count": 10,
   "id": "5426b03c-0298-4331-a242-9d4c2b55bf5a",
   "metadata": {
    "tags": []
   },
   "outputs": [],
   "source": [
    "# Creamos el dataframe\n",
    "df = spark.createDataFrame(career.get_dict()[\"resultSets\"][0][\"rowSet\"], [\"PLAYER_ID\",\"SEASON_ID\",\"LEAGUE_ID\",\"TEAM_ID\",\"TEAM_ABBREVIATION\",\"PLAYER_AGE\",\"GP\",\"GS\",\n",
    "\"MIN\",\"FGM\",\"FGA\",\"FG_PCT\",\"FG3M\",\"FG3A\",\"FG3_PCT\",\"FTM\",\"FTA\",\"FT_PCT\",\"OREB\",\"DREB\",\"REB\",\"AST\",\"STL\",\"BLK\",\"TOV\",\"PF\",\"PTS\"])\n",
    "\n",
    "#Eliminamos la columna \"LEAGUE_ID\"\n",
    "df=df.drop(\"LEAGUE_ID\")"
   ]
  },
  {
   "cell_type": "code",
   "execution_count": 12,
   "id": "86d2e9b4-8ccd-4789-aa68-a014ca50b591",
   "metadata": {
    "tags": []
   },
   "outputs": [],
   "source": [
    "#Hacemos un dropDuplicates en la columna \"SEASON_ID\" para asegurarnos que no haya datos repetidos sobre una misma temporada\n",
    "df=df.dropDuplicates(['SEASON_ID'])"
   ]
  },
  {
   "cell_type": "code",
   "execution_count": null,
   "id": "668367db-0133-4329-b9f4-1adbace049c9",
   "metadata": {},
   "outputs": [],
   "source": [
    "#Ya tenemos el df list para escribir en la base, hacemos un show() para verlo\n",
    "df.show()"
   ]
  },
  {
   "cell_type": "code",
   "execution_count": 6,
   "id": "f82b7ea8-81ee-4a17-83e5-0b7a85542b6e",
   "metadata": {
    "tags": []
   },
   "outputs": [],
   "source": [
    "#Empezamos con la conexion a Redshift para posteriormente hacer la carga de los datos\n",
    "env = os.environ"
   ]
  },
  {
   "cell_type": "code",
   "execution_count": 7,
   "id": "d6c9313b-f55d-41b6-b0b3-2028781bb352",
   "metadata": {
    "tags": []
   },
   "outputs": [],
   "source": [
    "# Conectamos a Redshift\n",
    "conn = psycopg2.connect(\n",
    "    host=env['AWS_REDSHIFT_HOST'],\n",
    "    port=env['AWS_REDSHIFT_PORT'],\n",
    "    dbname=env['AWS_REDSHIFT_DBNAME'],\n",
    "    user=env['AWS_REDSHIFT_USER'],\n",
    "    password=env['AWS_REDSHIFT_PASSWORD']\n",
    ")"
   ]
  },
  {
   "cell_type": "code",
   "execution_count": 97,
   "id": "09f4ae99-28b8-4deb-8efe-536a4fc924e9",
   "metadata": {
    "tags": []
   },
   "outputs": [
    {
     "name": "stdout",
     "output_type": "stream",
     "text": [
      "Table created!\n"
     ]
    }
   ],
   "source": [
    "#Creamos la tabla en la base de Redsfhit\n",
    "cursor = conn.cursor()\n",
    "cursor.execute(f\"\"\"\n",
    "create table if not exists {env['AWS_REDSHIFT_SCHEMA']}.Stephen_Curry_NBA_RegularSeason_Stats (\n",
    "    PLAYER_ID int distkey,\n",
    "    SEASON_ID int,\n",
    "    TEAM_ID bigint,\n",
    "    TEAM_ABBREVIATION varchar(3),\n",
    "    PLAYER_AGE int,\n",
    "    GP int,\n",
    "    GS int,\n",
    "    MIN decimal(10,2),\n",
    "    FGM int,\n",
    "    FGA int,\n",
    "    FG_PCT decimal(5,4),\n",
    "    FG3M int,\n",
    "    FG3A int,\n",
    "    FG3_PCT decimal(5,4),\n",
    "    FTM int,\n",
    "    FTA int,\n",
    "    FT_PCT decimal(5,4),\n",
    "    OREB int,\n",
    "    DREB int,\n",
    "    REB int,\n",
    "    AST int,\n",
    "    STL int,\n",
    "    BLK int,\n",
    "    TOV int,\n",
    "    PF int,\n",
    "    PTS int);\"\"\")\n",
    "\n",
    "conn.commit()\n",
    "cursor.close()\n",
    "print(\"Table created!\")"
   ]
  },
  {
   "cell_type": "code",
   "execution_count": 99,
   "id": "846c31de-8995-45de-87ff-9f573852e8a4",
   "metadata": {
    "tags": []
   },
   "outputs": [],
   "source": [
    "#Escribimos el df\n",
    "df.write \\\n",
    "    .format(\"jdbc\") \\\n",
    "    .option(\"url\", f\"jdbc:postgresql://{env['AWS_REDSHIFT_HOST']}:{env['AWS_REDSHIFT_PORT']}/{env['AWS_REDSHIFT_DBNAME']}\") \\\n",
    "    .option(\"dbtable\", f\"{env['AWS_REDSHIFT_SCHEMA']}.Stephen_Curry_NBA_RegularSeason_Stats\") \\\n",
    "    .option(\"user\", env['AWS_REDSHIFT_USER']) \\\n",
    "    .option(\"password\", env['AWS_REDSHIFT_PASSWORD']) \\\n",
    "    .option(\"driver\", \"org.postgresql.Driver\") \\\n",
    "    .mode(\"overwrite\") \\\n",
    "    .save()"
   ]
  },
  {
   "cell_type": "code",
   "execution_count": 100,
   "id": "e42cca47-336f-4870-a528-b1c56d7c64b2",
   "metadata": {
    "tags": []
   },
   "outputs": [],
   "source": [
    "# Query Redshift usando Spark SQL\n",
    "query = f\"select * from {env['AWS_REDSHIFT_SCHEMA']}.Stephen_Curry_NBA_RegularSeason_Stats\"\n",
    "data = spark.read \\\n",
    "    .format(\"jdbc\") \\\n",
    "    .option(\"url\", f\"jdbc:postgresql://{env['AWS_REDSHIFT_HOST']}:{env['AWS_REDSHIFT_PORT']}/{env['AWS_REDSHIFT_DBNAME']}\") \\\n",
    "    .option(\"dbtable\", f\"({query}) as tmp_table\") \\\n",
    "    .option(\"user\", env['AWS_REDSHIFT_USER']) \\\n",
    "    .option(\"password\", env['AWS_REDSHIFT_PASSWORD']) \\\n",
    "    .option(\"driver\", \"org.postgresql.Driver\") \\\n",
    "    .load()"
   ]
  },
  {
   "cell_type": "code",
   "execution_count": 102,
   "id": "311a75ef-818b-4b8d-9f48-43e62ca2f806",
   "metadata": {
    "tags": []
   },
   "outputs": [],
   "source": [
    "#Terminamos la conexion con la base de datos\n",
    "conn.close()"
   ]
  }
 ],
 "metadata": {
  "kernelspec": {
   "display_name": "Python 3 (ipykernel)",
   "language": "python",
   "name": "python3"
  },
  "language_info": {
   "codemirror_mode": {
    "name": "ipython",
    "version": 3
   },
   "file_extension": ".py",
   "mimetype": "text/x-python",
   "name": "python",
   "nbconvert_exporter": "python",
   "pygments_lexer": "ipython3",
   "version": "3.10.10"
  },
  "vscode": {
   "interpreter": {
    "hash": "6e3977c52f5249dbc2a33b897faad1e0916758085298811edbd14ed6ad707d81"
   }
  }
 },
 "nbformat": 4,
 "nbformat_minor": 5
}
