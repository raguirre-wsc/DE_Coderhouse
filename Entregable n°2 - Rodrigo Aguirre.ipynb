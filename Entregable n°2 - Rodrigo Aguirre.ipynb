{
 "cells": [
  {
   "attachments": {},
   "cell_type": "markdown",
   "id": "2b9d8ad5-0ba7-4f10-bbc4-963a950c85fa",
   "metadata": {
    "tags": []
   },
   "source": [
    "# ENTREGABLE N1 - RODRIGO AGUIRRE\n",
    "\n",
    "CONSIGA:\n",
    "* Bajar datos de una API en formato JSON\n",
    "* Cargar datos en la tabla de Redshift\n",
    "\n",
    "![Imagen](./entregable_arquitectura.png)"
   ]
  },
  {
   "cell_type": "code",
   "execution_count": 90,
   "id": "2b8041f0-c750-42c3-8943-515cd0131743",
   "metadata": {
    "tags": []
   },
   "outputs": [
    {
     "name": "stdout",
     "output_type": "stream",
     "text": [
      "Requirement already satisfied: nba_api in /opt/conda/lib/python3.10/site-packages (1.2)\n",
      "Requirement already satisfied: numpy<2.0.0,>=1.22.2 in /opt/conda/lib/python3.10/site-packages (from nba_api) (1.23.5)\n",
      "Requirement already satisfied: requests in /opt/conda/lib/python3.10/site-packages (from nba_api) (2.28.2)\n",
      "Requirement already satisfied: charset-normalizer<4,>=2 in /opt/conda/lib/python3.10/site-packages (from requests->nba_api) (3.1.0)\n",
      "Requirement already satisfied: idna<4,>=2.5 in /opt/conda/lib/python3.10/site-packages (from requests->nba_api) (3.4)\n",
      "Requirement already satisfied: urllib3<1.27,>=1.21.1 in /opt/conda/lib/python3.10/site-packages (from requests->nba_api) (1.26.15)\n",
      "Requirement already satisfied: certifi>=2017.4.17 in /opt/conda/lib/python3.10/site-packages (from requests->nba_api) (2022.12.7)\n",
      "Note: you may need to restart the kernel to use updated packages.\n"
     ]
    }
   ],
   "source": [
    "#Para el ejercicio elegi una libreria que facilita el trabajo con la api oficial de la NBA. \n",
    "#Los datos que tomaremos son las estadisiticas de Stephen Curry en sus temporadas regulares en la NBA.\n",
    "pip install nba_api"
   ]
  },
  {
   "cell_type": "code",
   "execution_count": 2,
   "id": "697c682c-f3f5-4662-8a63-cd33cd34444b",
   "metadata": {
    "collapsed": true,
    "jupyter": {
     "outputs_hidden": true
    },
    "tags": []
   },
   "outputs": [
    {
     "ename": "ModuleNotFoundError",
     "evalue": "No module named 'nba_api'",
     "output_type": "error",
     "traceback": [
      "\u001b[1;31m---------------------------------------------------------------------------\u001b[0m",
      "\u001b[1;31mModuleNotFoundError\u001b[0m                       Traceback (most recent call last)",
      "Cell \u001b[1;32mIn[2], line 1\u001b[0m\n\u001b[1;32m----> 1\u001b[0m \u001b[39mfrom\u001b[39;00m \u001b[39mnba_api\u001b[39;00m\u001b[39m.\u001b[39;00m\u001b[39mstats\u001b[39;00m\u001b[39m.\u001b[39;00m\u001b[39mendpoints\u001b[39;00m \u001b[39mimport\u001b[39;00m playercareerstats\n\u001b[0;32m      2\u001b[0m \u001b[39mimport\u001b[39;00m \u001b[39mjson\u001b[39;00m \n\u001b[0;32m      4\u001b[0m \u001b[39m# Stephen Curry Seasons Stats - Obtenemos un json y lo visualizamos (cambiando el numero de id podriamos analizar otros jugadores).\u001b[39;00m\n",
      "\u001b[1;31mModuleNotFoundError\u001b[0m: No module named 'nba_api'"
     ]
    }
   ],
   "source": [
    "from nba_api.stats.endpoints import playercareerstats\n",
    "import json \n",
    "\n",
    "# Stephen Curry Seasons Stats - Obtenemos un json y lo visualizamos (cambiando el numero de id podriamos analizar otros jugadores).\n",
    "career = playercareerstats.PlayerCareerStats(player_id='201939')\n",
    "json=json.dumps(career.get_dict(), indent=4)\n",
    "#print(json)"
   ]
  },
  {
   "cell_type": "code",
   "execution_count": 93,
   "id": "f69103b7-5d6b-4a88-9de3-b1d21a21c068",
   "metadata": {
    "tags": []
   },
   "outputs": [
    {
     "name": "stdout",
     "output_type": "stream",
     "text": [
      "Requirement already satisfied: psycopg2-binary in /opt/conda/lib/python3.10/site-packages (2.9.6)\n"
     ]
    }
   ],
   "source": [
    "!pip install psycopg2-binary"
   ]
  },
  {
   "cell_type": "code",
   "execution_count": 94,
   "id": "784bd8a8-1f06-4eed-b011-8c6b04b6f5df",
   "metadata": {
    "tags": []
   },
   "outputs": [],
   "source": [
    "# Crear sesion de Spark\n",
    "import os\n",
    "import psycopg2\n",
    "\n",
    "from pyspark.sql import SparkSession\n",
    "from pyspark.sql.functions import when, lit, col\n",
    "\n",
    "# Postgres and Redshift JDBCs\n",
    "driver_path = \"/home/coder/working_dir/driver_jdbc/postgresql-42.2.27.jre7.jar\"\n",
    "\n",
    "os.environ['PYSPARK_SUBMIT_ARGS'] = f'--driver-class-path {driver_path} --jars {driver_path} pyspark-shell'\n",
    "os.environ['SPARK_CLASSPATH'] = driver_path\n",
    "\n",
    "# Create SparkSession \n",
    "spark = SparkSession.builder \\\n",
    "        .master(\"local\") \\\n",
    "        .appName(\"Conexion entre Pyspark y Redshift\") \\\n",
    "        .config(\"spark.jars\", driver_path) \\\n",
    "        .config(\"spark.executor.extraClassPath\", driver_path) \\\n",
    "        .getOrCreate()"
   ]
  },
  {
   "cell_type": "code",
   "execution_count": 95,
   "id": "f82b7ea8-81ee-4a17-83e5-0b7a85542b6e",
   "metadata": {
    "tags": []
   },
   "outputs": [],
   "source": [
    "env = os.environ"
   ]
  },
  {
   "cell_type": "code",
   "execution_count": 96,
   "id": "d6c9313b-f55d-41b6-b0b3-2028781bb352",
   "metadata": {
    "tags": []
   },
   "outputs": [],
   "source": [
    "# Conectamos a Redshift\n",
    "conn = psycopg2.connect(\n",
    "    host=env['AWS_REDSHIFT_HOST'],\n",
    "    port=env['AWS_REDSHIFT_PORT'],\n",
    "    dbname=env['AWS_REDSHIFT_DBNAME'],\n",
    "    user=env['AWS_REDSHIFT_USER'],\n",
    "    password=env['AWS_REDSHIFT_PASSWORD']\n",
    ")"
   ]
  },
  {
   "cell_type": "code",
   "execution_count": 97,
   "id": "09f4ae99-28b8-4deb-8efe-536a4fc924e9",
   "metadata": {
    "tags": []
   },
   "outputs": [
    {
     "name": "stdout",
     "output_type": "stream",
     "text": [
      "Table created!\n"
     ]
    }
   ],
   "source": [
    "#Creamos la tabla\n",
    "cursor = conn.cursor()\n",
    "cursor.execute(f\"\"\"\n",
    "create table if not exists {env['AWS_REDSHIFT_SCHEMA']}.Stephen_Curry_NBA_RegularSeason_Stats (\n",
    "    PLAYER_ID int distkey,\n",
    "    SEASON_ID int,\n",
    "    TEAM_ID bigint,\n",
    "    TEAM_ABBREVIATION varchar(3),\n",
    "    PLAYER_AGE int,\n",
    "    GP int,\n",
    "    GS int,\n",
    "    MIN decimal(10,2),\n",
    "    FGM int,\n",
    "    FGA int,\n",
    "    FG_PCT decimal(5,4),\n",
    "    FG3M int,\n",
    "    FG3A int,\n",
    "    FG3_PCT decimal(5,4),\n",
    "    FTM int,\n",
    "    FTA int,\n",
    "    FT_PCT decimal(5,4),\n",
    "    OREB int,\n",
    "    DREB int,\n",
    "    REB int,\n",
    "    AST int,\n",
    "    STL int,\n",
    "    BLK int,\n",
    "    TOV int,\n",
    "    PF int,\n",
    "    PTS int);\"\"\")\n",
    "\n",
    "conn.commit()\n",
    "cursor.close()\n",
    "print(\"Table created!\")"
   ]
  },
  {
   "cell_type": "code",
   "execution_count": 98,
   "id": "5426b03c-0298-4331-a242-9d4c2b55bf5a",
   "metadata": {
    "tags": []
   },
   "outputs": [],
   "source": [
    "# Creamos el dataframe\n",
    "df = spark.createDataFrame(career.get_dict()[\"resultSets\"][0][\"rowSet\"], [\"PLAYER_ID\",\"SEASON_ID\",\"LEAGUE_ID\",\"TEAM_ID\",\"TEAM_ABBREVIATION\",\"PLAYER_AGE\",\"GP\",\"GS\",\n",
    "\"MIN\",\"FGM\",\"FGA\",\"FG_PCT\",\"FG3M\",\"FG3A\",\"FG3_PCT\",\"FTM\",\"FTA\",\"FT_PCT\",\"OREB\",\"DREB\",\"REB\",\"AST\",\"STL\",\"BLK\",\"TOV\",\"PF\",\"PTS\"])\n",
    "df=df.drop(\"LEAGUE_ID\")"
   ]
  },
  {
   "cell_type": "code",
   "execution_count": 99,
   "id": "846c31de-8995-45de-87ff-9f573852e8a4",
   "metadata": {
    "tags": []
   },
   "outputs": [],
   "source": [
    "#Escribimos los datos en la DB\n",
    "df.write \\\n",
    "    .format(\"jdbc\") \\\n",
    "    .option(\"url\", f\"jdbc:postgresql://{env['AWS_REDSHIFT_HOST']}:{env['AWS_REDSHIFT_PORT']}/{env['AWS_REDSHIFT_DBNAME']}\") \\\n",
    "    .option(\"dbtable\", f\"{env['AWS_REDSHIFT_SCHEMA']}.Stephen_Curry_NBA_RegularSeason_Stats\") \\\n",
    "    .option(\"user\", env['AWS_REDSHIFT_USER']) \\\n",
    "    .option(\"password\", env['AWS_REDSHIFT_PASSWORD']) \\\n",
    "    .option(\"driver\", \"org.postgresql.Driver\") \\\n",
    "    .mode(\"overwrite\") \\\n",
    "    .save()"
   ]
  },
  {
   "cell_type": "code",
   "execution_count": 100,
   "id": "e42cca47-336f-4870-a528-b1c56d7c64b2",
   "metadata": {
    "tags": []
   },
   "outputs": [],
   "source": [
    "# Query Redshift using Spark SQL\n",
    "query = f\"select * from {env['AWS_REDSHIFT_SCHEMA']}.Stephen_Curry_NBA_RegularSeason_Stats\"\n",
    "data = spark.read \\\n",
    "    .format(\"jdbc\") \\\n",
    "    .option(\"url\", f\"jdbc:postgresql://{env['AWS_REDSHIFT_HOST']}:{env['AWS_REDSHIFT_PORT']}/{env['AWS_REDSHIFT_DBNAME']}\") \\\n",
    "    .option(\"dbtable\", f\"({query}) as tmp_table\") \\\n",
    "    .option(\"user\", env['AWS_REDSHIFT_USER']) \\\n",
    "    .option(\"password\", env['AWS_REDSHIFT_PASSWORD']) \\\n",
    "    .option(\"driver\", \"org.postgresql.Driver\") \\\n",
    "    .load()"
   ]
  },
  {
   "cell_type": "code",
   "execution_count": 101,
   "id": "f23e27db-346e-4905-8848-8179409a9139",
   "metadata": {
    "tags": []
   },
   "outputs": [
    {
     "name": "stdout",
     "output_type": "stream",
     "text": [
      "root\n",
      " |-- player_id: long (nullable = true)\n",
      " |-- season_id: string (nullable = true)\n",
      " |-- team_id: long (nullable = true)\n",
      " |-- team_abbreviation: string (nullable = true)\n",
      " |-- player_age: double (nullable = true)\n",
      " |-- gp: long (nullable = true)\n",
      " |-- gs: long (nullable = true)\n",
      " |-- min: double (nullable = true)\n",
      " |-- fgm: long (nullable = true)\n",
      " |-- fga: long (nullable = true)\n",
      " |-- fg_pct: double (nullable = true)\n",
      " |-- fg3m: long (nullable = true)\n",
      " |-- fg3a: long (nullable = true)\n",
      " |-- fg3_pct: double (nullable = true)\n",
      " |-- ftm: long (nullable = true)\n",
      " |-- fta: long (nullable = true)\n",
      " |-- ft_pct: double (nullable = true)\n",
      " |-- oreb: long (nullable = true)\n",
      " |-- dreb: long (nullable = true)\n",
      " |-- reb: long (nullable = true)\n",
      " |-- ast: long (nullable = true)\n",
      " |-- stl: long (nullable = true)\n",
      " |-- blk: long (nullable = true)\n",
      " |-- tov: long (nullable = true)\n",
      " |-- pf: long (nullable = true)\n",
      " |-- pts: long (nullable = true)\n",
      "\n",
      "+---------+---------+----------+-----------------+----------+---+---+------+---+----+------+----+----+-------+---+---+------+----+----+---+---+---+---+---+---+----+\n",
      "|player_id|season_id|   team_id|team_abbreviation|player_age| gp| gs|   min|fgm| fga|fg_pct|fg3m|fg3a|fg3_pct|ftm|fta|ft_pct|oreb|dreb|reb|ast|stl|blk|tov| pf| pts|\n",
      "+---------+---------+----------+-----------------+----------+---+---+------+---+----+------+----+----+-------+---+---+------+----+----+---+---+---+---+---+---+----+\n",
      "|   201939|  2009-10|1610612744|              GSW|      22.0| 80| 77|2896.0|528|1143| 0.462| 166| 380|  0.437|177|200| 0.885|  48| 308|356|472|152| 19|243|252|1399|\n",
      "|   201939|  2010-11|1610612744|              GSW|      23.0| 74| 74|2489.0|505|1053|  0.48| 151| 342|  0.442|212|227| 0.934|  52| 234|286|432|109| 20|226|233|1373|\n",
      "|   201939|  2011-12|1610612744|              GSW|      24.0| 26| 23| 732.0|145| 296|  0.49|  55| 121|  0.455| 38| 47| 0.809|  15|  73| 88|138| 39|  8| 65| 62| 383|\n",
      "|   201939|  2012-13|1610612744|              GSW|      25.0| 78| 78|2983.0|626|1388| 0.451| 272| 600|  0.453|262|291|   0.9|  59| 255|314|539|126| 12|240|198|1786|\n",
      "|   201939|  2013-14|1610612744|              GSW|      26.0| 78| 78|2846.0|652|1383| 0.471| 261| 615|  0.424|308|348| 0.885|  46| 288|334|666|128| 14|294|194|1873|\n",
      "|   201939|  2014-15|1610612744|              GSW|      27.0| 80| 80|2613.0|653|1341| 0.487| 286| 646|  0.443|308|337| 0.914|  56| 285|341|619|163| 16|249|158|1900|\n",
      "|   201939|  2015-16|1610612744|              GSW|      28.0| 79| 79|2700.0|805|1598| 0.504| 402| 886|  0.454|363|400| 0.908|  68| 362|430|527|169| 15|262|161|2375|\n",
      "|   201939|  2016-17|1610612744|              GSW|      29.0| 79| 79|2639.0|675|1443| 0.468| 324| 789|  0.411|325|362| 0.898|  61| 292|353|524|142| 17|239|183|1999|\n",
      "|   201939|  2017-18|1610612744|              GSW|      30.0| 51| 51|1631.0|428| 864| 0.495| 212| 501|  0.423|278|302| 0.921|  36| 225|261|310| 80|  8|153|114|1346|\n",
      "|   201939|  2018-19|1610612744|              GSW|      31.0| 69| 69|2331.0|632|1340| 0.472| 354| 810|  0.437|263|287| 0.916|  45| 324|369|361| 92| 25|192|166|1881|\n",
      "|   201939|  2019-20|1610612744|              GSW|      32.0|  5|  5| 139.0| 33|  82| 0.402|  12|  49|  0.245| 26| 26|   1.0|   4|  22| 26| 33|  5|  2| 16| 11| 104|\n",
      "|   201939|  2020-21|1610612744|              GSW|      33.0| 63| 63|2152.0|658|1365| 0.482| 337| 801|  0.421|362|395| 0.916|  29| 316|345|363| 77|  8|213|119|2015|\n",
      "|   201939|  2021-22|1610612744|              GSW|      34.0| 64| 64|2211.0|535|1224| 0.437| 285| 750|   0.38|275|298| 0.923|  34| 301|335|404| 85| 23|206|130|1630|\n",
      "|   201939|  2022-23|1610612744|              GSW|      35.0| 56| 56|1941.0|559|1133| 0.493| 273| 639|  0.427|257|281| 0.915|  39| 302|341|352| 52| 20|179|117|1648|\n",
      "+---------+---------+----------+-----------------+----------+---+---+------+---+----+------+----+----+-------+---+---+------+----+----+---+---+---+---+---+---+----+\n",
      "\n"
     ]
    }
   ],
   "source": [
    "data.printSchema()\n",
    "data.show()"
   ]
  },
  {
   "cell_type": "code",
   "execution_count": 102,
   "id": "311a75ef-818b-4b8d-9f48-43e62ca2f806",
   "metadata": {
    "tags": []
   },
   "outputs": [],
   "source": [
    "conn.close()"
   ]
  }
 ],
 "metadata": {
  "kernelspec": {
   "display_name": "Python 3 (ipykernel)",
   "language": "python",
   "name": "python3"
  },
  "language_info": {
   "codemirror_mode": {
    "name": "ipython",
    "version": 3
   },
   "file_extension": ".py",
   "mimetype": "text/x-python",
   "name": "python",
   "nbconvert_exporter": "python",
   "pygments_lexer": "ipython3",
   "version": "3.10.4"
  },
  "vscode": {
   "interpreter": {
    "hash": "6e3977c52f5249dbc2a33b897faad1e0916758085298811edbd14ed6ad707d81"
   }
  }
 },
 "nbformat": 4,
 "nbformat_minor": 5
}
